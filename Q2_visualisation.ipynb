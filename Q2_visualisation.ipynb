{
 "cells": [
  {
   "cell_type": "code",
   "execution_count": 1,
   "metadata": {},
   "outputs": [
    {
     "data": {
      "text/html": [
       "<div>\n",
       "<style scoped>\n",
       "    .dataframe tbody tr th:only-of-type {\n",
       "        vertical-align: middle;\n",
       "    }\n",
       "\n",
       "    .dataframe tbody tr th {\n",
       "        vertical-align: top;\n",
       "    }\n",
       "\n",
       "    .dataframe thead th {\n",
       "        text-align: right;\n",
       "    }\n",
       "</style>\n",
       "<table border=\"1\" class=\"dataframe\">\n",
       "  <thead>\n",
       "    <tr style=\"text-align: right;\">\n",
       "      <th></th>\n",
       "      <th>STATE</th>\n",
       "      <th>DISTRICT</th>\n",
       "      <th>TEH_NAME</th>\n",
       "      <th>BLOCK_NAME</th>\n",
       "      <th>LAT</th>\n",
       "      <th>LON</th>\n",
       "      <th>SITE_NAME</th>\n",
       "      <th>SITE_TYPE</th>\n",
       "      <th>WLCODE</th>\n",
       "      <th>YEAR_OBS</th>\n",
       "      <th>MONSOON</th>\n",
       "      <th>POMRB</th>\n",
       "      <th>POMKH</th>\n",
       "      <th>PREMON</th>\n",
       "      <th>POM_Recharge</th>\n",
       "      <th>RB_Effect</th>\n",
       "      <th>KH_Effect</th>\n",
       "    </tr>\n",
       "  </thead>\n",
       "  <tbody>\n",
       "    <tr>\n",
       "      <th>0</th>\n",
       "      <td>AP</td>\n",
       "      <td>Anantapur</td>\n",
       "      <td>Biknur</td>\n",
       "      <td>Atmakur_atp</td>\n",
       "      <td>14.644444</td>\n",
       "      <td>77.358333</td>\n",
       "      <td>Atmakur2</td>\n",
       "      <td>Bore Well</td>\n",
       "      <td>W03812</td>\n",
       "      <td>1996</td>\n",
       "      <td>11.26</td>\n",
       "      <td>11.93</td>\n",
       "      <td>6.25</td>\n",
       "      <td>11.27</td>\n",
       "      <td>-0.01</td>\n",
       "      <td>0.67</td>\n",
       "      <td>-5.01</td>\n",
       "    </tr>\n",
       "    <tr>\n",
       "      <th>1</th>\n",
       "      <td>AP</td>\n",
       "      <td>Anantapur</td>\n",
       "      <td>Dich Palle</td>\n",
       "      <td>Gooty</td>\n",
       "      <td>14.126389</td>\n",
       "      <td>76.977778</td>\n",
       "      <td>Amarapuram</td>\n",
       "      <td>Bore Well</td>\n",
       "      <td>W03813</td>\n",
       "      <td>1996</td>\n",
       "      <td>21.45</td>\n",
       "      <td>20.51</td>\n",
       "      <td>17.92</td>\n",
       "      <td>23.90</td>\n",
       "      <td>-2.45</td>\n",
       "      <td>-0.94</td>\n",
       "      <td>-3.53</td>\n",
       "    </tr>\n",
       "    <tr>\n",
       "      <th>2</th>\n",
       "      <td>AP</td>\n",
       "      <td>Anantapur</td>\n",
       "      <td>Sadashivanagar</td>\n",
       "      <td>Anantapur</td>\n",
       "      <td>14.675000</td>\n",
       "      <td>77.608333</td>\n",
       "      <td>Anantapur1</td>\n",
       "      <td>Bore Well</td>\n",
       "      <td>W03815</td>\n",
       "      <td>1996</td>\n",
       "      <td>16.10</td>\n",
       "      <td>14.30</td>\n",
       "      <td>12.32</td>\n",
       "      <td>17.66</td>\n",
       "      <td>-1.56</td>\n",
       "      <td>-1.80</td>\n",
       "      <td>-3.78</td>\n",
       "    </tr>\n",
       "    <tr>\n",
       "      <th>3</th>\n",
       "      <td>AP</td>\n",
       "      <td>Anantapur</td>\n",
       "      <td>Bommanahal</td>\n",
       "      <td>Bommanahal</td>\n",
       "      <td>15.000000</td>\n",
       "      <td>77.008333</td>\n",
       "      <td>Bommanhal</td>\n",
       "      <td>Bore Well</td>\n",
       "      <td>W03884</td>\n",
       "      <td>1996</td>\n",
       "      <td>5.81</td>\n",
       "      <td>4.39</td>\n",
       "      <td>5.34</td>\n",
       "      <td>7.45</td>\n",
       "      <td>-1.64</td>\n",
       "      <td>-1.42</td>\n",
       "      <td>-0.47</td>\n",
       "    </tr>\n",
       "    <tr>\n",
       "      <th>4</th>\n",
       "      <td>AP</td>\n",
       "      <td>Anantapur</td>\n",
       "      <td>Vidapanakal</td>\n",
       "      <td>Vidapanakal</td>\n",
       "      <td>15.008333</td>\n",
       "      <td>77.216667</td>\n",
       "      <td>Budagavi</td>\n",
       "      <td>Dug Well</td>\n",
       "      <td>W03889</td>\n",
       "      <td>1996</td>\n",
       "      <td>6.80</td>\n",
       "      <td>8.16</td>\n",
       "      <td>2.23</td>\n",
       "      <td>8.54</td>\n",
       "      <td>-1.74</td>\n",
       "      <td>1.36</td>\n",
       "      <td>-4.57</td>\n",
       "    </tr>\n",
       "  </tbody>\n",
       "</table>\n",
       "</div>"
      ],
      "text/plain": [
       "  STATE   DISTRICT        TEH_NAME   BLOCK_NAME        LAT        LON  \\\n",
       "0    AP  Anantapur          Biknur  Atmakur_atp  14.644444  77.358333   \n",
       "1    AP  Anantapur      Dich Palle        Gooty  14.126389  76.977778   \n",
       "2    AP  Anantapur  Sadashivanagar    Anantapur  14.675000  77.608333   \n",
       "3    AP  Anantapur      Bommanahal   Bommanahal  15.000000  77.008333   \n",
       "4    AP  Anantapur     Vidapanakal  Vidapanakal  15.008333  77.216667   \n",
       "\n",
       "    SITE_NAME  SITE_TYPE  WLCODE  YEAR_OBS  MONSOON  POMRB  POMKH  PREMON  \\\n",
       "0    Atmakur2  Bore Well  W03812      1996    11.26  11.93   6.25   11.27   \n",
       "1  Amarapuram  Bore Well  W03813      1996    21.45  20.51  17.92   23.90   \n",
       "2  Anantapur1  Bore Well  W03815      1996    16.10  14.30  12.32   17.66   \n",
       "3   Bommanhal  Bore Well  W03884      1996     5.81   4.39   5.34    7.45   \n",
       "4    Budagavi   Dug Well  W03889      1996     6.80   8.16   2.23    8.54   \n",
       "\n",
       "   POM_Recharge  RB_Effect  KH_Effect  \n",
       "0         -0.01       0.67      -5.01  \n",
       "1         -2.45      -0.94      -3.53  \n",
       "2         -1.56      -1.80      -3.78  \n",
       "3         -1.64      -1.42      -0.47  \n",
       "4         -1.74       1.36      -4.57  "
      ]
     },
     "execution_count": 1,
     "metadata": {},
     "output_type": "execute_result"
    }
   ],
   "source": [
    "import pandas as pd #Load the dataset\n",
    "df=pd.read_csv('PostComputationData.csv')\n",
    "df.head()"
   ]
  },
  {
   "cell_type": "code",
   "execution_count": 2,
   "metadata": {
    "scrolled": false
   },
   "outputs": [],
   "source": [
    "#year wise calculating the mean of groundwater for different seasons\n",
    "year_list=[1996,1997,1998,1999,2000,2001,2002,2003,2004,2005,2006,2007,2008,2009,2010,2011,2012,2013,2014,2015,2016]\n",
    "mon=[]\n",
    "rb=[]\n",
    "kh=[]\n",
    "pre=[]\n",
    "for year in year_list:\n",
    "    df_new=df[df['YEAR_OBS']==year]\n",
    "    mon.append(df_new.MONSOON.mean())\n",
    "    rb.append(df_new.POMRB.mean())\n",
    "    kh.append(df_new.POMKH.mean())\n",
    "    pre.append(df_new.PREMON.mean())"
   ]
  },
  {
   "cell_type": "code",
   "execution_count": 3,
   "metadata": {},
   "outputs": [
    {
     "name": "stdout",
     "output_type": "stream",
     "text": [
      "5.624204410973642\n",
      "5.989244065200744\n",
      "5.933839840544026\n",
      "6.584194563302291\n",
      "6.252465769877493\n",
      "6.630997322623829\n",
      "7.049504058853374\n",
      "5.548201206059715\n",
      "5.634791078066915\n",
      "7.3926335116986674\n",
      "6.6513021373729\n",
      "6.893808049535603\n",
      "6.807835469383283\n",
      "7.646963684463684\n",
      "6.9170014126107615\n",
      "6.586940007546221\n",
      "4.502372881355932\n",
      "6.481867665965365\n",
      "6.452508649984244\n",
      "6.606538919304928\n",
      "5.637931942919868\n"
     ]
    }
   ],
   "source": [
    "#mean for monsoon season\n",
    "for x in range(len(mon)):\n",
    "    print(mon[x])"
   ]
  },
  {
   "cell_type": "code",
   "execution_count": 4,
   "metadata": {},
   "outputs": [
    {
     "name": "stdout",
     "output_type": "stream",
     "text": [
      "6.92961377084454\n",
      "6.902718520949568\n",
      "6.565403916051119\n",
      "6.98374905612887\n",
      "7.2631263511890465\n",
      "7.857076305220883\n",
      "7.35849441907661\n",
      "6.996314163847625\n",
      "6.642230483271375\n",
      "8.970354632252649\n",
      "8.045894376426645\n",
      "8.32825984840397\n",
      "8.111304633585277\n",
      "8.028060365560366\n",
      "8.090540644664184\n",
      "7.797367626713621\n",
      "5.954915254237289\n",
      "8.542148004731633\n",
      "7.35416126042632\n",
      "7.546509561215584\n",
      "7.550237102085621\n"
     ]
    }
   ],
   "source": [
    "#mean for post monsoon rabi season \n",
    "for x in range(len(mon)):\n",
    "    print(rb[x])"
   ]
  },
  {
   "cell_type": "code",
   "execution_count": 5,
   "metadata": {},
   "outputs": [
    {
     "name": "stdout",
     "output_type": "stream",
     "text": [
      "5.93091339429801\n",
      "6.064194289465048\n",
      "5.71871145503576\n",
      "6.645273093380316\n",
      "7.006873648810953\n",
      "6.820737617135207\n",
      "7.291424403855911\n",
      "5.561398735108104\n",
      "5.9489843866171\n",
      "7.146399118665408\n",
      "7.144712595974269\n",
      "7.141397459165154\n",
      "7.255756380764597\n",
      "7.671737614237614\n",
      "6.871182740464878\n",
      "7.1558307131178465\n",
      "5.2410169491525425\n",
      "6.776685758845864\n",
      "7.009533364226135\n",
      "7.08384829008966\n",
      "6.210621295279911\n"
     ]
    }
   ],
   "source": [
    "#mean for post kharif seasons\n",
    "for x in range(len(kh)):\n",
    "    print(kh[x])"
   ]
  },
  {
   "cell_type": "code",
   "execution_count": 6,
   "metadata": {},
   "outputs": [
    {
     "name": "stdout",
     "output_type": "stream",
     "text": [
      "8.602660570199031\n",
      "8.552285307953179\n",
      "8.3118994020401\n",
      "8.65875283161339\n",
      "8.715288253663225\n",
      "9.279366800535474\n",
      "8.979156519533232\n",
      "8.511912045889101\n",
      "8.284921933085503\n",
      "10.466418004406671\n",
      "9.504029881718198\n",
      "9.896409736308316\n",
      "9.585928360170884\n",
      "9.734230399230402\n",
      "9.875854629510723\n",
      "9.509268016601686\n",
      "7.082542372881357\n",
      "10.241989210548564\n",
      "9.041449644733087\n",
      "8.833968102832658\n",
      "9.060616904500549\n"
     ]
    }
   ],
   "source": [
    "mean for premonsoon seasons\n",
    "for x in range(len(pre)):\n",
    "    print(pre[x])"
   ]
  },
  {
   "cell_type": "code",
   "execution_count": 14,
   "metadata": {},
   "outputs": [
    {
     "data": {
      "image/png": "[encoded data removed]",
      "text/plain": [
       "<Figure size 432x288 with 1 Axes>"
      ]
     },
     "metadata": {},
     "output_type": "display_data"
    }
   ],
   "source": [
    "import matplotlib.pyplot as plt\n",
    "from matplotlib.pyplot import *\n",
    "\n",
    "years=[1996,1997,1998,1999,2000,2001,2002,2003,2004,2005,2006,2007,2008,2009,2010,2011,2012,2013,2014,2015,2016]\n",
    "plt.plot(years, mon , color='g',label='Monsoon Season')\n",
    "plt.plot(years, rb , color='orange',label='Post Monsoon Rabi Season')\n",
    "plt.plot(years, kh , color='blue',label='Post Monsoon Kharif Season')\n",
    "plt.plot(years, pre , color='red',label='PreMonsoon Season')\n",
    "legend(bbox_to_anchor=(1.05, 1), loc=2, borderaxespad=0.)\n",
    "plt.xlabel('Years')\n",
    "plt.ylabel('Average GroundWater Level')\n",
    "plt.title('Average GroundWater Level of India over the years for specific season of the year')\n",
    "plt.xticks(years)\n",
    "plt.rc('xtick', labelsize=10) \n",
    "plt.savefig(\"Figures/SeasonalGroundwater.png\",dpi=200,quality=95,bbox_inches='tight')\n",
    "plt.show()"
   ]
  },
  {
   "cell_type": "code",
   "execution_count": null,
   "metadata": {},
   "outputs": [],
   "source": []
  },
  {
   "cell_type": "code",
   "execution_count": null,
   "metadata": {},
   "outputs": [],
   "source": []
  }
 ],
 "metadata": {
  "kernelspec": {
   "display_name": "Python 3",
   "language": "python",
   "name": "python3"
  },
  "language_info": {
   "codemirror_mode": {
    "name": "ipython",
    "version": 3
   },
   "file_extension": ".py",
   "mimetype": "text/x-python",
   "name": "python",
   "nbconvert_exporter": "python",
   "pygments_lexer": "ipython3",
   "version": "3.7.0"
  }
 },
 "nbformat": 4,
 "nbformat_minor": 2
}
